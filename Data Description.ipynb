{
 "cells": [
  {
   "cell_type": "markdown",
   "metadata": {},
   "source": [
    "# Hierarchical-Clustering-T-sne\n",
    "This project is to understand the implementation of hierarchical clustering and T-sne\n",
    "\n",
    "\n",
    "### Library used. \n",
    "1. pandas\n",
    "2. numpy\n",
    "3. matplotlib and inline\n",
    "4. seaborn\n",
    "5. pipeline\n",
    "6. sklearn.cluster import KMeans\n",
    "7. scipy.cluster.hierarchy import linkage, dendrogram\n",
    "\n",
    "\n",
    "### Dataset used is :\n",
    "company stock\n",
    "\n",
    "### Steps Involved\n",
    "1.\tImporting the required Libraries\n",
    "2.\tReading the Dataset File\n",
    "3.\tExploring the data to find missing values\n",
    "4.\tTreating the Missing Values\n",
    "5.\tClustering stocks using KMeans¶\n",
    "6.\tHierarchies of stocks\n",
    "7.\tT-SNE map of the stock market\n"
   ]
  },
  {
   "cell_type": "code",
   "execution_count": null,
   "metadata": {},
   "outputs": [],
   "source": []
  }
 ],
 "metadata": {
  "kernelspec": {
   "display_name": "Python 3",
   "language": "python",
   "name": "python3"
  },
  "language_info": {
   "codemirror_mode": {
    "name": "ipython",
    "version": 3
   },
   "file_extension": ".py",
   "mimetype": "text/x-python",
   "name": "python",
   "nbconvert_exporter": "python",
   "pygments_lexer": "ipython3",
   "version": "3.8.5"
  }
 },
 "nbformat": 4,
 "nbformat_minor": 4
}
